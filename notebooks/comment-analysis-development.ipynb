{
 "cells": [
  {
   "cell_type": "markdown",
   "id": "95399d21-3d79-4110-b883-cdc25fe82549",
   "metadata": {},
   "source": [
    "# YouTube Comment Analysis\n",
    "\n",
    "We will analyse YouTube video comments using various methods:\n",
    "\n",
    "- investigate the donations for a video\n",
    "- sentiment analysis using `TextBlob` and `VaderSentiment`\n",
    "- estimation of the dislikes on a video based on the comment polarity and the likes\n",
    "- extract the relevant terms of highly positive and negative comments using TF-IDF\n",
    "\n",
    "Preparatory steps:\n",
    "\n",
    "1. open a YouTube video in the Browser\n",
    "2. inspect the page\n",
    "3. copy the HTML `body` element\n",
    "4. paste the element to `html_body.txt`\n",
    "\n",
    "Note: if there are numerous comments on a video, it is recommended to scroll down a couple of times to get a representative overview of the comments before extracting the HTML."
   ]
  },
  {
   "cell_type": "markdown",
   "id": "e43a60f8-2736-452b-aa38-a4f5ce2172b8",
   "metadata": {},
   "source": [
    "## General Imports"
   ]
  },
  {
   "cell_type": "code",
   "execution_count": 1,
   "id": "a2aa7a08-7733-43a3-8c28-d65b8e2e0d36",
   "metadata": {},
   "outputs": [],
   "source": [
    "import sys\n",
    "sys.path.insert(0, '..')"
   ]
  },
  {
   "cell_type": "code",
   "execution_count": 2,
   "id": "e56ef4c1-2b64-404a-9be0-1ac37a912183",
   "metadata": {},
   "outputs": [],
   "source": [
    "%load_ext autoreload\n",
    "%autoreload 2"
   ]
  },
  {
   "cell_type": "code",
   "execution_count": 3,
   "id": "a92d6048-6ce1-4a2b-8ee3-e9ced90d5a14",
   "metadata": {},
   "outputs": [],
   "source": [
    "import pandas as pd\n",
    "import re\n",
    "import seaborn as sns\n",
    "\n",
    "from bs4 import BeautifulSoup\n",
    "from googletrans import Translator\n",
    "from matplotlib import pyplot as plt"
   ]
  },
  {
   "cell_type": "code",
   "execution_count": 6,
   "id": "4413d93a-f3ef-4e08-a985-1e6587aa1934",
   "metadata": {
    "scrolled": true
   },
   "outputs": [],
   "source": [
    "from src.comment_analysis.methods import get_currency_conversion_df, concatenate_comments, get_comment_polarity_df, extract_relevant_terms\n",
    "from src.comment_analysis.visualisation import generate_wordcloud"
   ]
  },
  {
   "cell_type": "markdown",
   "id": "0d0c6a76-0f45-42dc-96f4-aa2ac7f196a4",
   "metadata": {},
   "source": [
    "## Parse HTML using BeautifulSoup"
   ]
  },
  {
   "cell_type": "code",
   "execution_count": 8,
   "id": "d3a9d92b-7683-48c9-9449-0f9a34fec9bb",
   "metadata": {},
   "outputs": [],
   "source": [
    "with open('../html_body.txt', 'r', encoding='utf-8') as file:\n",
    "    raw_html = file.read()"
   ]
  },
  {
   "cell_type": "code",
   "execution_count": 9,
   "id": "62b6ae6a-f79d-4481-8598-595c671b7bec",
   "metadata": {},
   "outputs": [],
   "source": [
    "soup = BeautifulSoup(raw_html)"
   ]
  },
  {
   "cell_type": "markdown",
   "id": "e0c95671-02a1-4378-a7a7-70215b7f729e",
   "metadata": {},
   "source": [
    "## Donations"
   ]
  },
  {
   "cell_type": "markdown",
   "id": "d2bbe378-486d-42f1-a1f7-b6318678e2ca",
   "metadata": {},
   "source": [
    "Let's analyse the donations for a video."
   ]
  },
  {
   "cell_type": "markdown",
   "id": "61f159af-d520-4414-bf42-0adfeac497a9",
   "metadata": {},
   "source": [
    "### Donation scraping"
   ]
  },
  {
   "cell_type": "markdown",
   "id": "6eadf47c-3993-4021-9813-cc1926be27c4",
   "metadata": {},
   "source": [
    "Scrape donations from the parsed HTML via the `comment-chip-price` spans."
   ]
  },
  {
   "cell_type": "raw",
   "id": "ae40963b-d672-41aa-aaaa-984d180e8f66",
   "metadata": {},
   "source": [
    "Example: <span id=\"comment-chip-price\" class=\"style-scope yt-pdg-comment-chip-renderer\"> 29,99&nbsp;€ </span>"
   ]
  },
  {
   "cell_type": "code",
   "execution_count": 10,
   "id": "cd7b58a3-e268-4773-9677-119f6639ccc3",
   "metadata": {},
   "outputs": [],
   "source": [
    "price_spans = soup.findAll('span', {'id': 'comment-chip-price'})"
   ]
  },
  {
   "cell_type": "code",
   "execution_count": 11,
   "id": "4d787e24-6eb2-4c48-b72c-c1fd81c04e0b",
   "metadata": {},
   "outputs": [],
   "source": [
    "donations = [elem.text.strip() for elem in price_spans if len(elem.text.strip()) > 0]"
   ]
  },
  {
   "cell_type": "code",
   "execution_count": 12,
   "id": "eacfa75a-cce1-4a2c-bf30-8183344cd39d",
   "metadata": {},
   "outputs": [],
   "source": [
    "donation_df = pd.DataFrame([elem.split(\"\\xa0\") for elem in donations], \n",
    "                           columns=['donation', 'currency'])"
   ]
  },
  {
   "cell_type": "code",
   "execution_count": 13,
   "id": "1ca6cd68-2768-4b79-a69b-7126a28c673a",
   "metadata": {},
   "outputs": [
    {
     "data": {
      "text/plain": [
       "donation    object\n",
       "currency    object\n",
       "dtype: object"
      ]
     },
     "execution_count": 13,
     "metadata": {},
     "output_type": "execute_result"
    }
   ],
   "source": [
    "donation_df.dtypes"
   ]
  },
  {
   "cell_type": "code",
   "execution_count": 14,
   "id": "44547c5b-e5e9-4379-88c2-fd2865cf491d",
   "metadata": {},
   "outputs": [],
   "source": [
    "donation_df['donation'] = donation_df['donation'].apply(lambda donation: donation.replace(',', '.')).astype(float)"
   ]
  },
  {
   "cell_type": "markdown",
   "id": "3c8f7ae8-88e6-4fac-9129-46a7ab6dfc8b",
   "metadata": {},
   "source": [
    "### Currency conversion"
   ]
  },
  {
   "cell_type": "markdown",
   "id": "1ee4a491-b15d-4128-b287-01ea15d1df2e",
   "metadata": {},
   "source": [
    "Donation currencies may vary; we need to convert them to a single currency."
   ]
  },
  {
   "cell_type": "code",
   "execution_count": 15,
   "id": "c6183e19-4ac3-40b0-a50f-cd140d0956d8",
   "metadata": {},
   "outputs": [],
   "source": [
    "unique_currencies = donation_df['currency'].unique()"
   ]
  },
  {
   "cell_type": "code",
   "execution_count": 16,
   "id": "51809508-256f-4814-9246-b0b93678671d",
   "metadata": {},
   "outputs": [],
   "source": [
    "target_currency = 'USD'"
   ]
  },
  {
   "cell_type": "code",
   "execution_count": 17,
   "id": "69237ee3-21f6-4bcb-ac0d-391b0a52e8a8",
   "metadata": {},
   "outputs": [],
   "source": [
    "curr_conv_df = get_currency_conversion_df(unique_currencies=unique_currencies,\n",
    "                                          target_currency=target_currency)"
   ]
  },
  {
   "cell_type": "code",
   "execution_count": 18,
   "id": "5765107b-3388-4a8d-afe6-c09d7ea8a4c5",
   "metadata": {},
   "outputs": [],
   "source": [
    "merge = donation_df.merge(curr_conv_df, left_on='currency', right_on='currency', how='left')"
   ]
  },
  {
   "cell_type": "markdown",
   "id": "a3a4eb29-cb25-494e-82d2-f2c0fd3aed55",
   "metadata": {},
   "source": [
    "### Summary of Donations"
   ]
  },
  {
   "cell_type": "code",
   "execution_count": 19,
   "id": "60d348e1-4387-4c60-a2f6-a30f5f9cf54b",
   "metadata": {},
   "outputs": [],
   "source": [
    "merge['conv_donation'] = merge['donation'] * merge['factor']"
   ]
  },
  {
   "cell_type": "code",
   "execution_count": 20,
   "id": "46f14dd3-88c4-4d82-a44a-d7377b86dbfd",
   "metadata": {},
   "outputs": [
    {
     "name": "stdout",
     "output_type": "stream",
     "text": [
      "Total sum of donations: 1826.49 USD\n"
     ]
    }
   ],
   "source": [
    "print(f\"Total sum of donations: {merge['conv_donation'].sum():.2f} {target_currency}\")"
   ]
  },
  {
   "cell_type": "code",
   "execution_count": 21,
   "id": "9398ede8-ceed-4f4f-b492-587a1cb47aea",
   "metadata": {},
   "outputs": [],
   "source": [
    "sns.set(font_scale=1.3)"
   ]
  },
  {
   "cell_type": "code",
   "execution_count": 22,
   "id": "46439769-e11c-49ab-9f89-c066bc4a89c6",
   "metadata": {},
   "outputs": [
    {
     "data": {
      "text/plain": [
       "Text(0.5, 1.0, 'Donations')"
      ]
     },
     "execution_count": 22,
     "metadata": {},
     "output_type": "execute_result"
    },
    {
     "data": {
      "image/png": "[encoded data removed]",
      "text/plain": [
       "<Figure size 640x480 with 1 Axes>"
      ]
     },
     "metadata": {},
     "output_type": "display_data"
    }
   ],
   "source": [
    "merge['conv_donation'].hist(bins=30)\n",
    "plt.xlabel(f'Donation [{target_currency}]')\n",
    "plt.ylabel('Count [-]')\n",
    "plt.title('Donations')"
   ]
  },
  {
   "cell_type": "markdown",
   "id": "cba3469d-8b1a-477a-adec-c4d2ede3e6db",
   "metadata": {},
   "source": [
    "## Sentiment Analysis"
   ]
  },
  {
   "cell_type": "markdown",
   "id": "b708a9ae-9d0b-4d16-85aa-12af664ca0f0",
   "metadata": {},
   "source": [
    "Depending on the scraped comments, sentiment extraction may require German corpora and the `textblob-de` package.\n",
    "\n",
    "Here, we use `googletrans` to directly translate the comments to english (if required) and then perform sentiment analysis on these translations using `textblob`."
   ]
  },
  {
   "cell_type": "markdown",
   "id": "bfa5a499-d5ba-4b40-98e4-238994d3fc7f",
   "metadata": {},
   "source": [
    "### Comment Extraction"
   ]
  },
  {
   "cell_type": "code",
   "execution_count": 23,
   "id": "9664acfd-439d-4890-a826-006916af2256",
   "metadata": {},
   "outputs": [],
   "source": [
    "content_divs = soup.find('div', {'id': 'contents', \n",
    "                                 'class': 'style-scope ytd-item-section-renderer style-scope ytd-item-section-renderer'})"
   ]
  },
  {
   "cell_type": "code",
   "execution_count": 24,
   "id": "2e079cc9-d8c0-4c79-afb7-c9cebc3e5592",
   "metadata": {},
   "outputs": [],
   "source": [
    "comment_spans = content_divs.findAll('span', {'role': 'text'})"
   ]
  },
  {
   "cell_type": "code",
   "execution_count": 25,
   "id": "19e0edd1-210b-4231-9f85-71819c09ca59",
   "metadata": {},
   "outputs": [],
   "source": [
    "comments = [comment.text.strip() for comment in comment_spans if 'Antwort' not in comment.text.strip()]"
   ]
  },
  {
   "cell_type": "code",
   "execution_count": null,
   "id": "6bca1a2d-2b63-4bf4-83fe-1c1428b7cbbf",
   "metadata": {},
   "outputs": [],
   "source": [
    "comments[:5]"
   ]
  },
  {
   "cell_type": "code",
   "execution_count": 27,
   "id": "c73192cc-03c6-4ca6-ad8c-bb7303310ccd",
   "metadata": {},
   "outputs": [
    {
     "data": {
      "text/plain": [
       "225"
      ]
     },
     "execution_count": 27,
     "metadata": {},
     "output_type": "execute_result"
    }
   ],
   "source": [
    "len(comments)"
   ]
  },
  {
   "cell_type": "markdown",
   "id": "e75e839d-5a3c-4efe-8f6b-cf1aa7584b03",
   "metadata": {},
   "source": [
    "### Comment Translation"
   ]
  },
  {
   "cell_type": "code",
   "execution_count": 28,
   "id": "39856065-3a0e-405b-9c7c-4fb855847abf",
   "metadata": {},
   "outputs": [],
   "source": [
    "translator = Translator()"
   ]
  },
  {
   "cell_type": "markdown",
   "id": "e296a1e8-cf97-49a8-be66-1578e4f9329b",
   "metadata": {},
   "source": [
    "#### Test translation"
   ]
  },
  {
   "cell_type": "code",
   "execution_count": null,
   "id": "71437035-21d3-4ab1-96a0-27b5be43264e",
   "metadata": {},
   "outputs": [],
   "source": [
    "translator.translate(comments[0], dest='en').text"
   ]
  },
  {
   "cell_type": "markdown",
   "id": "9e260d10-d13d-4c74-bc29-d51926995e16",
   "metadata": {},
   "source": [
    "#### Concatenation of Comments, Translation, and Split\n",
    "\n",
    "The Google API has rate limits; we concatenate the data into chunks of up to 3000 characters and then translate each chunk in one go, followed by splitting into individual comments."
   ]
  },
  {
   "cell_type": "code",
   "execution_count": 30,
   "id": "29a89b08-b18c-4ab4-aa80-f2414f6c2c5b",
   "metadata": {},
   "outputs": [],
   "source": [
    "separator: str = \" ||| \""
   ]
  },
  {
   "cell_type": "code",
   "execution_count": 31,
   "id": "dcf2251a-fa81-47a0-9b76-53b0e7df2d11",
   "metadata": {},
   "outputs": [],
   "source": [
    "concatenates = concatenate_comments(comments=comments,\n",
    "                                    separator=separator)"
   ]
  },
  {
   "cell_type": "markdown",
   "id": "d79cc168-5c8e-4fb5-a7ab-a3d3494bb042",
   "metadata": {},
   "source": [
    "#### Translation via Google Translate"
   ]
  },
  {
   "cell_type": "code",
   "execution_count": 32,
   "id": "ad5e5308-70a7-44fe-b37a-e04e350b8685",
   "metadata": {},
   "outputs": [],
   "source": [
    "from tqdm import tqdm"
   ]
  },
  {
   "cell_type": "code",
   "execution_count": 33,
   "id": "3c3e031b-d23c-4929-a150-a204c82391bc",
   "metadata": {},
   "outputs": [
    {
     "name": "stderr",
     "output_type": "stream",
     "text": [
      "Translating comment concatenates: 100%|█| 13/13 [00:01<00:00,  7.17i\n"
     ]
    }
   ],
   "source": [
    "raw_translations = []\n",
    "failed = []\n",
    "for i, concatenate in tqdm(\n",
    "    enumerate(concatenates), \n",
    "    total=len(concatenates), \n",
    "    desc='Translating comment concatenates'\n",
    "):\n",
    "    try:\n",
    "        raw_translations.append(translator.translate(concatenate, dest='en'))\n",
    "    except Exception as e:\n",
    "        print(f\"Error translating chunk {i}: {type(e)}: {e}\")\n",
    "        failed.append(concatenate)"
   ]
  },
  {
   "cell_type": "code",
   "execution_count": 34,
   "id": "42575f90-63bf-47a8-a8ec-946414777925",
   "metadata": {},
   "outputs": [
    {
     "name": "stdout",
     "output_type": "stream",
     "text": [
      "Translation of 0 chunks failed.\n"
     ]
    }
   ],
   "source": [
    "print(f\"Translation of {len(failed)} chunks failed.\")"
   ]
  },
  {
   "cell_type": "code",
   "execution_count": 35,
   "id": "474d2db4-3f11-4a54-82da-7d3d4a92b528",
   "metadata": {},
   "outputs": [],
   "source": [
    "combined_translations = separator.join([translation.text for translation in raw_translations])"
   ]
  },
  {
   "cell_type": "code",
   "execution_count": 36,
   "id": "8bcc8ab8-f115-46a7-9021-9d6d5e4feb43",
   "metadata": {
    "scrolled": true
   },
   "outputs": [],
   "source": [
    "translated_comments = combined_translations.split(\"|||\")"
   ]
  },
  {
   "cell_type": "code",
   "execution_count": 37,
   "id": "a20453ae-f6e7-4801-ac5f-4163e7e8e04b",
   "metadata": {},
   "outputs": [
    {
     "data": {
      "text/plain": [
       "225"
      ]
     },
     "execution_count": 37,
     "metadata": {},
     "output_type": "execute_result"
    }
   ],
   "source": [
    "len(comments)"
   ]
  },
  {
   "cell_type": "code",
   "execution_count": 38,
   "id": "49977739-a537-4330-a34a-58677b0abcd6",
   "metadata": {},
   "outputs": [
    {
     "data": {
      "text/plain": [
       "221"
      ]
     },
     "execution_count": 38,
     "metadata": {},
     "output_type": "execute_result"
    }
   ],
   "source": [
    "len(translated_comments)"
   ]
  },
  {
   "cell_type": "code",
   "execution_count": null,
   "id": "d9e50b0e-3540-48ac-8d22-942c0a0577f0",
   "metadata": {},
   "outputs": [],
   "source": [
    "translated_comments[:3]"
   ]
  },
  {
   "cell_type": "markdown",
   "id": "e5b688f4-c05d-4550-8032-dfc09908e58c",
   "metadata": {},
   "source": [
    "### Sentiment Extraction"
   ]
  },
  {
   "cell_type": "markdown",
   "id": "8040e9ae-3d2a-4064-a362-046c44e3f20e",
   "metadata": {},
   "source": [
    "Based on the translated comments, we now extract sentiments via the `VaderSentiment` and `TextBlob` packages.\n",
    "\n",
    "Conceptual difference: VADER (Valence Aware Dictionary and sEntiment Reasoner) is designed specifically for social media sentiments (e.g., regarding processing of emoticons and exclamatory expressions), whereas TextBlob is a general purpose tool. VADER classifies the text in proportions of negative and positive elements and a compound score, whereas TextBlob only provides a polarity score and an estimate of subjectivity. Both approaches are lexicon-based, but TextBlob additionally incorporates an NaiveBayes classifier."
   ]
  },
  {
   "cell_type": "code",
   "execution_count": 39,
   "id": "dd8ae1d9-4d80-41f0-bb4c-765c2dfdadbc",
   "metadata": {},
   "outputs": [],
   "source": [
    "comment_df = get_comment_polarity_df(comments=translated_comments)"
   ]
  },
  {
   "cell_type": "markdown",
   "id": "4e17d9e0-1b2f-49be-93a5-cacabdb7afaa",
   "metadata": {},
   "source": [
    "Quick output inspection:"
   ]
  },
  {
   "cell_type": "code",
   "execution_count": null,
   "id": "af76d796-de71-4b8a-9df4-ca65f8371367",
   "metadata": {},
   "outputs": [],
   "source": [
    "comment_df.head(3)"
   ]
  },
  {
   "cell_type": "markdown",
   "id": "70ad207d-8b51-427b-81e1-63d1089f6cbb",
   "metadata": {},
   "source": [
    "#### Isolation of problematic cases\n",
    "\n",
    "To investigate the feasibility of our analysis, we check for internal consistency by counting the cases where both polarity analyses diverge strongly.\n",
    "\n",
    "We will do so in two ways:\n",
    "\n",
    "1. extraction of cases where one analysis yielded a positive and one analysis yielded a negative polarity\n",
    "2. extraction of cases where the extracted polarities differ by 0.5"
   ]
  },
  {
   "cell_type": "code",
   "execution_count": 42,
   "id": "3a96954b-f3fc-4418-ba23-8dce5cdd3b4f",
   "metadata": {},
   "outputs": [],
   "source": [
    "positive_vs_negative_comments = comment_df.query(\n",
    "    '(polarity_textblob > 0.2 & polarity_vader < -0.2) | (polarity_textblob < -0.2 & polarity_vader > 0.2)'\n",
    ")"
   ]
  },
  {
   "cell_type": "code",
   "execution_count": null,
   "id": "07065489-a14d-442a-a9f9-41b846a3a680",
   "metadata": {},
   "outputs": [],
   "source": [
    "positive_vs_negative_comments"
   ]
  },
  {
   "cell_type": "code",
   "execution_count": 44,
   "id": "6d4db0da-e8f4-4f18-8453-fbb7dd0394f5",
   "metadata": {},
   "outputs": [
    {
     "name": "stdout",
     "output_type": "stream",
     "text": [
      "2 cases (0.9%) where analyses yielded opposite sentiment.\n"
     ]
    }
   ],
   "source": [
    "print(f\"{len(positive_vs_negative_comments)} cases ({len(positive_vs_negative_comments)/len(comment_df):.1%}) where analyses yielded opposite sentiment.\")"
   ]
  },
  {
   "cell_type": "code",
   "execution_count": 45,
   "id": "2ad17960-9bad-4882-a503-a8fe60a48a85",
   "metadata": {},
   "outputs": [],
   "source": [
    "absolute_polarity_divergence_comments = comment_df.query(\n",
    "    '(polarity_textblob - polarity_vader < -0.5) | (polarity_textblob - polarity_vader > 0.5)'\n",
    ")"
   ]
  },
  {
   "cell_type": "code",
   "execution_count": null,
   "id": "9dba91e5-39e3-4f46-a004-276c2cafde4e",
   "metadata": {},
   "outputs": [],
   "source": [
    "absolute_polarity_divergence_comments"
   ]
  },
  {
   "cell_type": "code",
   "execution_count": 46,
   "id": "ce55aace-ad74-469c-af51-a2bb7961c64c",
   "metadata": {},
   "outputs": [
    {
     "name": "stdout",
     "output_type": "stream",
     "text": [
      "72 cases (32.6%) where analyses yielded a delta of 0.5 for the polarity.\n"
     ]
    }
   ],
   "source": [
    "print(f\"{len(absolute_polarity_divergence_comments)} cases ({len(absolute_polarity_divergence_comments)/len(comment_df):.1%}) where analyses yielded a delta of 0.5 for the polarity.\")"
   ]
  },
  {
   "cell_type": "markdown",
   "id": "14543e3b-dfaa-4c07-a60e-bb67b72b1d42",
   "metadata": {},
   "source": [
    "#### Sentiment Visualisation"
   ]
  },
  {
   "cell_type": "code",
   "execution_count": 47,
   "id": "a9d4999a-bb43-42b9-9564-a1924d8189c7",
   "metadata": {},
   "outputs": [],
   "source": [
    "sns.set()"
   ]
  },
  {
   "cell_type": "code",
   "execution_count": 48,
   "id": "f2dbb4c0-ee41-4cab-944b-84abbe292554",
   "metadata": {},
   "outputs": [
    {
     "data": {
      "image/png": "[encoded data removed]",
      "text/plain": [
       "<Figure size 800x600 with 1 Axes>"
      ]
     },
     "metadata": {},
     "output_type": "display_data"
    }
   ],
   "source": [
    "# melt the DF so we can plot both columns as categorical variables in the same plot\n",
    "df_melted = comment_df.melt(value_vars=['sentiment_textblob', 'sentiment_vader'], \n",
    "                            var_name='Analysis Method', \n",
    "                            value_name='sentiment')\n",
    "\n",
    "# plot using matplotlib / seaborn\n",
    "plt.figure(figsize=(8, 6))\n",
    "order = sorted(df_melted['sentiment'].unique())\n",
    "\n",
    "sns.countplot(x='sentiment', \n",
    "              hue='Analysis Method',\n",
    "              order=order,\n",
    "              data=df_melted, \n",
    "              dodge=True)\n",
    "\n",
    "plt.title('Categorical Distribution of Sentiment (TextBlob vs VADER)')\n",
    "plt.xlabel('Sentiment')\n",
    "plt.ylabel('Count')\n",
    "plt.show()"
   ]
  },
  {
   "cell_type": "code",
   "execution_count": 49,
   "id": "16bf7867-cb07-416d-9db1-03e2043e4d8d",
   "metadata": {},
   "outputs": [
    {
     "data": {
      "text/html": [
       "<div>\n",
       "<style scoped>\n",
       "    .dataframe tbody tr th:only-of-type {\n",
       "        vertical-align: middle;\n",
       "    }\n",
       "\n",
       "    .dataframe tbody tr th {\n",
       "        vertical-align: top;\n",
       "    }\n",
       "\n",
       "    .dataframe thead th {\n",
       "        text-align: right;\n",
       "    }\n",
       "</style>\n",
       "<table border=\"1\" class=\"dataframe\">\n",
       "  <thead>\n",
       "    <tr style=\"text-align: right;\">\n",
       "      <th></th>\n",
       "      <th>comment</th>\n",
       "      <th>polarity_textblob</th>\n",
       "      <th>polarity_vader</th>\n",
       "      <th>sentiment_textblob</th>\n",
       "      <th>sentiment_vader</th>\n",
       "    </tr>\n",
       "  </thead>\n",
       "  <tbody>\n",
       "    <tr>\n",
       "      <th>0</th>\n",
       "      <td>This comment section is now the property of th...</td>\n",
       "      <td>0.000000</td>\n",
       "      <td>0.0000</td>\n",
       "      <td>neutral</td>\n",
       "      <td>neutral</td>\n",
       "    </tr>\n",
       "    <tr>\n",
       "      <th>1</th>\n",
       "      <td>A moving masterpiece in feature film length</td>\n",
       "      <td>0.000000</td>\n",
       "      <td>0.6249</td>\n",
       "      <td>neutral</td>\n",
       "      <td>positive</td>\n",
       "    </tr>\n",
       "    <tr>\n",
       "      <th>2</th>\n",
       "      <td>5 months .. The wait has an end.Thanks Jules</td>\n",
       "      <td>0.000000</td>\n",
       "      <td>0.0000</td>\n",
       "      <td>neutral</td>\n",
       "      <td>neutral</td>\n",
       "    </tr>\n",
       "    <tr>\n",
       "      <th>3</th>\n",
       "      <td>Just wow.I now know 2 of your blockbusters (wh...</td>\n",
       "      <td>-0.484375</td>\n",
       "      <td>0.5298</td>\n",
       "      <td>negative</td>\n",
       "      <td>positive</td>\n",
       "    </tr>\n",
       "    <tr>\n",
       "      <th>4</th>\n",
       "      <td>\"Nowadays there are no more good films!\"\\n\\nJu...</td>\n",
       "      <td>0.375000</td>\n",
       "      <td>0.1494</td>\n",
       "      <td>positive</td>\n",
       "      <td>positive</td>\n",
       "    </tr>\n",
       "  </tbody>\n",
       "</table>\n",
       "</div>"
      ],
      "text/plain": [
       "                                             comment  polarity_textblob  \\\n",
       "0  This comment section is now the property of th...           0.000000   \n",
       "1       A moving masterpiece in feature film length            0.000000   \n",
       "2      5 months .. The wait has an end.Thanks Jules            0.000000   \n",
       "3  Just wow.I now know 2 of your blockbusters (wh...          -0.484375   \n",
       "4  \"Nowadays there are no more good films!\"\\n\\nJu...           0.375000   \n",
       "\n",
       "   polarity_vader sentiment_textblob sentiment_vader  \n",
       "0          0.0000            neutral         neutral  \n",
       "1          0.6249            neutral        positive  \n",
       "2          0.0000            neutral         neutral  \n",
       "3          0.5298           negative        positive  \n",
       "4          0.1494           positive        positive  "
      ]
     },
     "execution_count": 49,
     "metadata": {},
     "output_type": "execute_result"
    }
   ],
   "source": [
    "comment_df.head()"
   ]
  },
  {
   "cell_type": "code",
   "execution_count": 50,
   "id": "b4d9fdaf-0bb2-4f65-acab-4cfa8fac26e1",
   "metadata": {},
   "outputs": [
    {
     "data": {
      "image/png": "[encoded data removed]",
      "text/plain": [
       "<Figure size 800x600 with 1 Axes>"
      ]
     },
     "metadata": {},
     "output_type": "display_data"
    }
   ],
   "source": [
    "fig, ax = plt.subplots(figsize=(8, 6))\n",
    "comment_df['polarity_textblob'].hist(bins=30, ax=ax, label='textblob', alpha=0.7)\n",
    "comment_df['polarity_vader'].hist(bins=30, ax=ax, label='vader', alpha=0.7)\n",
    "plt.title('Polarity Scores of Comments')\n",
    "plt.xlabel('Polarity [-]')\n",
    "plt.ylabel('Frequency [-]')\n",
    "plt.legend()\n",
    "plt.show()"
   ]
  },
  {
   "cell_type": "markdown",
   "id": "eeedb97e-e22d-45cb-9e44-30318313fcf1",
   "metadata": {},
   "source": [
    "If shifted to the right, overall sentiment is positive, if shifted to left, negative, if Gaussian, neutral."
   ]
  },
  {
   "cell_type": "markdown",
   "id": "29f1fe30-7704-40c9-83e1-6a5850bec75e",
   "metadata": {},
   "source": [
    "## Dislike Estimation"
   ]
  },
  {
   "cell_type": "markdown",
   "id": "8a96a70e-b98a-42eb-b7d4-6f29a5721638",
   "metadata": {},
   "source": [
    "We estimate the number of dislikes on the video based on overall polarity of the comments, assuming that the ratio of positive to negative comments roughly corresponds to the number of likes to dislikes."
   ]
  },
  {
   "cell_type": "markdown",
   "id": "b2003adb-0867-4aa1-b426-ebd2af3d9635",
   "metadata": {},
   "source": [
    "### Overall Comment Polarity Counts"
   ]
  },
  {
   "cell_type": "markdown",
   "id": "d3bfbd3c-0447-4d45-80d5-97dad8bd1607",
   "metadata": {},
   "source": [
    "We assume that only very positive and very negative comments based on the mean of VADER and TextBlob polarity result in a like or dislike.\n",
    "\n",
    "Let's define an absolute polarity cut-off for this purpose."
   ]
  },
  {
   "cell_type": "code",
   "execution_count": 51,
   "id": "a91b9221-c2ef-4f38-b985-7620418c0427",
   "metadata": {},
   "outputs": [],
   "source": [
    "polarity_cutoff = 0.5"
   ]
  },
  {
   "cell_type": "markdown",
   "id": "ced42885-436e-4380-8671-109a54a330ba",
   "metadata": {},
   "source": [
    "Mean of the polarity scores from the two different analysis methods:"
   ]
  },
  {
   "cell_type": "code",
   "execution_count": 52,
   "id": "ecc36728-d259-40be-a8f6-f1386819109a",
   "metadata": {},
   "outputs": [],
   "source": [
    "comment_df['polarity_mean'] = (comment_df['polarity_vader'] + comment_df['polarity_textblob'])/ 2"
   ]
  },
  {
   "cell_type": "code",
   "execution_count": 53,
   "id": "0831885d-ac2d-4bae-ade3-1e6eaa19052b",
   "metadata": {},
   "outputs": [],
   "source": [
    "highly_positive_count = (comment_df['polarity_mean'] > polarity_cutoff).astype(int).sum()"
   ]
  },
  {
   "cell_type": "code",
   "execution_count": 54,
   "id": "79b96412-0d87-43cc-84ed-241797ddaefc",
   "metadata": {},
   "outputs": [],
   "source": [
    "highly_negative_count = (comment_df['polarity_mean'] < -polarity_cutoff).astype(int).sum()"
   ]
  },
  {
   "cell_type": "code",
   "execution_count": 55,
   "id": "c803dd2c-b92e-4dde-8ad0-fd0d31a1cddc",
   "metadata": {},
   "outputs": [],
   "source": [
    "comment_ratio = highly_positive_count / highly_negative_count"
   ]
  },
  {
   "cell_type": "code",
   "execution_count": 56,
   "id": "554ec8ff-87bb-4500-ad08-a67448e0a068",
   "metadata": {},
   "outputs": [
    {
     "name": "stdout",
     "output_type": "stream",
     "text": [
      "Highly positive comments: 82, highly negative comments: 2, ratio positive/negative: 41.0\n"
     ]
    }
   ],
   "source": [
    "print(f\"Highly positive comments: {highly_positive_count}, highly negative comments: {highly_negative_count}, ratio positive/negative: {comment_ratio}\")"
   ]
  },
  {
   "cell_type": "markdown",
   "id": "abd3a9aa-87ab-4dc5-b43e-eb8c0a0b5b37",
   "metadata": {},
   "source": [
    "### Like Count"
   ]
  },
  {
   "cell_type": "code",
   "execution_count": 57,
   "id": "b2904fd1-b7fa-48d4-ac44-579f3591947f",
   "metadata": {},
   "outputs": [],
   "source": [
    "like_divs = soup.findAll('div', {'class': 'yt-spec-button-shape-next__button-text-content'})"
   ]
  },
  {
   "cell_type": "code",
   "execution_count": 58,
   "id": "0dd2c7eb-f528-4cf7-9e45-9997e72e4d86",
   "metadata": {},
   "outputs": [],
   "source": [
    "like_divs = [int(div.text.replace('.', '')) for div in like_divs if re.match('^\\d{1,3}(\\.\\d{3})*$',  # regex expression for multi-digit number with point\n",
    "                                                                             div.text)]"
   ]
  },
  {
   "cell_type": "code",
   "execution_count": 59,
   "id": "7cd04b44-c4da-4c07-905a-4157098ff933",
   "metadata": {},
   "outputs": [],
   "source": [
    "like_count = like_divs[0]"
   ]
  },
  {
   "cell_type": "code",
   "execution_count": 60,
   "id": "81e0ae21-2083-48dc-bd15-db5d453854b0",
   "metadata": {},
   "outputs": [
    {
     "data": {
      "text/plain": [
       "314865"
      ]
     },
     "execution_count": 60,
     "metadata": {},
     "output_type": "execute_result"
    }
   ],
   "source": [
    "like_count"
   ]
  },
  {
   "cell_type": "markdown",
   "id": "73513d59-7cff-4ba9-8df0-5e19bc8e088d",
   "metadata": {},
   "source": [
    "### Dislike Estimate\n",
    "\n",
    "We will now estimate the dislikes based on the highly positive to negative comment ratio and the like count."
   ]
  },
  {
   "cell_type": "code",
   "execution_count": 61,
   "id": "5fa19a00-21db-4a29-92ce-7a76c7e1c2a7",
   "metadata": {},
   "outputs": [
    {
     "name": "stdout",
     "output_type": "stream",
     "text": [
      "Likes: 314865\n"
     ]
    }
   ],
   "source": [
    "print(f\"Likes: {like_count}\")"
   ]
  },
  {
   "cell_type": "code",
   "execution_count": 62,
   "id": "d93c6630-3347-428f-88b7-c09d46acc527",
   "metadata": {},
   "outputs": [
    {
     "name": "stdout",
     "output_type": "stream",
     "text": [
      "Estimate of dislikes based on likes and comment polarity: 7679\n"
     ]
    }
   ],
   "source": [
    "print(f\"Estimate of dislikes based on likes and comment polarity: {int(like_count / comment_ratio)}\")"
   ]
  },
  {
   "cell_type": "markdown",
   "id": "371cc45e-5c37-4171-8a74-7d3eed36736b",
   "metadata": {},
   "source": [
    "## Isolation of extreme polarity-related terms"
   ]
  },
  {
   "cell_type": "markdown",
   "id": "6c9c6250-3aa6-41da-bd46-7c15ab8842c5",
   "metadata": {},
   "source": [
    "We isolate relevant terms (in this case, adjectives) from the comments to see what is being critisized.\n",
    "\n",
    "Method: Tf-Idf based on tokenized corpus. We'll work with the VADER polarity here as it is more suitable for social media content.\n",
    "\n",
    "Tf-Idf works by extracting overall word counts (term frequency, TF) and isolating words that are common to just a fraction of the documents (inverse document frequency, IDF).\n",
    "\n",
    "For preparation, we need to download stopwords and apply removal of them."
   ]
  },
  {
   "cell_type": "code",
   "execution_count": null,
   "id": "e0b03e00-d099-4cbf-8291-04ae65ecfcb5",
   "metadata": {},
   "outputs": [],
   "source": [
    "results = extract_relevant_terms(comment_df)\n",
    "\n",
    "print(\"Top positive terms:\\n\")\n",
    "print(results['positive'])\n",
    "\n",
    "print(\"\\nTop negative terms:\\n\")\n",
    "print(results['negative'])"
   ]
  },
  {
   "cell_type": "markdown",
   "id": "bbc67de7-ce85-40fb-9832-d196ccca0b27",
   "metadata": {},
   "source": [
    "#### Visualisation of relevant terms"
   ]
  },
  {
   "cell_type": "markdown",
   "id": "47618132-4214-45dc-94c8-25f74728f3bc",
   "metadata": {},
   "source": [
    "Relevant terms can be visualised in a WordCloud. We'll use a custom color function to improve readibility."
   ]
  },
  {
   "cell_type": "code",
   "execution_count": null,
   "id": "26576025-e3e6-42c5-b11d-a97ea6481cfc",
   "metadata": {},
   "outputs": [],
   "source": [
    "generate_wordcloud(results['positive'].head(10),\n",
    "                   title='Positive Comments')"
   ]
  },
  {
   "cell_type": "code",
   "execution_count": null,
   "id": "07144b74-5a6a-46dd-bf94-d321a4537124",
   "metadata": {},
   "outputs": [],
   "source": [
    "generate_wordcloud(results['negative'].head(10),\n",
    "                   title='Negative Comments')"
   ]
  },
  {
   "cell_type": "code",
   "execution_count": null,
   "id": "c6ec5946-5ba8-496d-8d99-1a2943e693db",
   "metadata": {},
   "outputs": [],
   "source": []
  },
  {
   "cell_type": "code",
   "execution_count": null,
   "id": "91f493ba-0ce0-468a-9696-328f25ca3470",
   "metadata": {},
   "outputs": [],
   "source": []
  }
 ],
 "metadata": {
  "kernelspec": {
   "display_name": "YT comment testing 2",
   "language": "python",
   "name": "yt-comment-tesing-2"
  },
  "language_info": {
   "codemirror_mode": {
    "name": "ipython",
    "version": 3
   },
   "file_extension": ".py",
   "mimetype": "text/x-python",
   "name": "python",
   "nbconvert_exporter": "python",
   "pygments_lexer": "ipython3",
   "version": "3.10.11"
  }
 },
 "nbformat": 4,
 "nbformat_minor": 5
}
