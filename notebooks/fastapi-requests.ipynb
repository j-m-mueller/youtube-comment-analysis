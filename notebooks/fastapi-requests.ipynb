{
 "cells": [
  {
   "cell_type": "markdown",
   "id": "d7cdae99-5680-4256-9a01-495b3329b37f",
   "metadata": {},
   "source": [
    "# FastAPI Requests"
   ]
  },
  {
   "cell_type": "markdown",
   "id": "0b6ff23a-d0bf-4847-ba39-fb3eb031a76b",
   "metadata": {},
   "source": [
    "This notebook demonstrates, how requests can be submitted to the running FastAPI."
   ]
  },
  {
   "cell_type": "code",
   "execution_count": 1,
   "id": "69eb45a6-b1fc-4dff-8c98-0d0da451e4e3",
   "metadata": {},
   "outputs": [],
   "source": [
    "%load_ext autoreload\n",
    "%autoreload 2"
   ]
  },
  {
   "cell_type": "code",
   "execution_count": 2,
   "id": "ddff6590-f122-400e-ac4a-afee07787597",
   "metadata": {},
   "outputs": [],
   "source": [
    "import json\n",
    "import requests"
   ]
  },
  {
   "cell_type": "markdown",
   "id": "f63bd98c-6a68-4bf9-b3d9-7c042327e7c5",
   "metadata": {},
   "source": [
    "## HTML Data Loading"
   ]
  },
  {
   "cell_type": "markdown",
   "id": "ec8491b2-f8cc-40b8-b1b3-9a3b430bd7c7",
   "metadata": {},
   "source": [
    "Load data for the API requests:"
   ]
  },
  {
   "cell_type": "code",
   "execution_count": 3,
   "id": "209f3540-8dbb-45d8-8b7d-460eb4f29a0f",
   "metadata": {},
   "outputs": [],
   "source": [
    "with open('../html_body.txt', 'r', encoding='utf-8') as file:\n",
    "    raw_html = file.read()"
   ]
  },
  {
   "cell_type": "markdown",
   "id": "e87c3b8c-3870-4314-a2c9-d96708273aa7",
   "metadata": {},
   "source": [
    "## Health Check"
   ]
  },
  {
   "cell_type": "markdown",
   "id": "dcd02776-b660-4b89-921d-4f2f3bc11ecc",
   "metadata": {},
   "source": [
    "If not done before, make sure that the API is up and running for the next steps:\n",
    "\n",
    "```sh\n",
    "uvicorn src.api.app:app --reload\n",
    "```\n",
    "\n",
    "Confirm that the API is running via the `/health` endpoint:"
   ]
  },
  {
   "cell_type": "code",
   "execution_count": 5,
   "id": "60a057e5-19e3-4f4e-b25b-bbf655c213ee",
   "metadata": {},
   "outputs": [
    {
     "data": {
      "text/plain": [
       "'Comment API is healthy'"
      ]
     },
     "execution_count": 5,
     "metadata": {},
     "output_type": "execute_result"
    }
   ],
   "source": [
    "requests.get('http://127.0.0.1:8000/health').json()"
   ]
  },
  {
   "cell_type": "markdown",
   "id": "48846ec8-9487-4eb0-96d9-6e2fcaecba7e",
   "metadata": {},
   "source": [
    "## Request Submission"
   ]
  },
  {
   "cell_type": "markdown",
   "id": "78e55714-3a6e-4a6a-a16a-bd1940f63870",
   "metadata": {},
   "source": [
    "Let's submit actual requests to the API."
   ]
  },
  {
   "cell_type": "markdown",
   "id": "a2a8a705-d09a-459a-8d1d-d2664e368abb",
   "metadata": {},
   "source": [
    "### Comment Extraction"
   ]
  },
  {
   "cell_type": "markdown",
   "id": "5c684830-56eb-4ade-9b31-c5a936245674",
   "metadata": {},
   "source": [
    "Pure extraction of comments:"
   ]
  },
  {
   "cell_type": "code",
   "execution_count": 6,
   "id": "0f38a215-0dc0-465c-bc95-8d8d8f87c9bf",
   "metadata": {},
   "outputs": [],
   "source": [
    "response = requests.post(\n",
    "    url='http://127.0.0.1:8000/extract-comments',\n",
    "    json={\n",
    "        \"raw_html\": raw_html\n",
    "    }\n",
    ")"
   ]
  },
  {
   "cell_type": "code",
   "execution_count": 7,
   "id": "b455ed8b-7a95-4ed6-ae76-2bc6f1ebbac3",
   "metadata": {},
   "outputs": [
    {
     "data": {
      "text/plain": [
       "200"
      ]
     },
     "execution_count": 7,
     "metadata": {},
     "output_type": "execute_result"
    }
   ],
   "source": [
    "response.status_code"
   ]
  },
  {
   "cell_type": "markdown",
   "id": "24c902a1-09f0-48cf-9e85-a925132078eb",
   "metadata": {},
   "source": [
    "Assuming a successful request (status code 200), we can yield the comments from the response as shown below:"
   ]
  },
  {
   "cell_type": "code",
   "execution_count": 8,
   "id": "40abb031-02e7-4caf-8f32-c29b7b94204f",
   "metadata": {},
   "outputs": [],
   "source": [
    "comments = response.json()['comments']"
   ]
  },
  {
   "cell_type": "code",
   "execution_count": 9,
   "id": "4b511345-5f29-40c1-800d-dd2a9624d190",
   "metadata": {},
   "outputs": [
    {
     "name": "stdout",
     "output_type": "stream",
     "text": [
      "225 comments extracted.\n"
     ]
    }
   ],
   "source": [
    "print(f\"{len(comments)} comments extracted.\")"
   ]
  },
  {
   "cell_type": "markdown",
   "id": "e6e6ce01-7065-483e-8920-4b972268d166",
   "metadata": {},
   "source": [
    "### Complete Comment Analysis"
   ]
  },
  {
   "cell_type": "markdown",
   "id": "38ff2111-068c-45b6-9009-e04cef817137",
   "metadata": {},
   "source": [
    "Analysis of the complete raw HTML including comments, donations, and dislike estimation:"
   ]
  },
  {
   "cell_type": "code",
   "execution_count": 10,
   "id": "f83658fe-feb3-47c7-b602-54eff938f4ae",
   "metadata": {},
   "outputs": [],
   "source": [
    "response = requests.post(\n",
    "    url='http://127.0.0.1:8000/analyze-comments',\n",
    "    json={\n",
    "        \"raw_html\": raw_html,\n",
    "        \"params\": {\n",
    "            \"analyze_donations\": True,\n",
    "            \"target_currency\": \"USD\",\n",
    "            \"dislike_polarity_cutoff\": 0.3\n",
    "        }\n",
    "    }\n",
    ")"
   ]
  },
  {
   "cell_type": "code",
   "execution_count": 11,
   "id": "031108e4-bb14-4098-8acf-5478793438a8",
   "metadata": {},
   "outputs": [
    {
     "data": {
      "text/plain": [
       "200"
      ]
     },
     "execution_count": 11,
     "metadata": {},
     "output_type": "execute_result"
    }
   ],
   "source": [
    "response.status_code"
   ]
  },
  {
   "cell_type": "markdown",
   "id": "e0157d12-d25f-4811-a278-87ad55dcfe8b",
   "metadata": {},
   "source": [
    "Assuming a successful request (status code 200), we can check the metrics of the analysis below:"
   ]
  },
  {
   "cell_type": "code",
   "execution_count": 12,
   "id": "56e82d04-94f6-4761-bfe4-473b6ec2877a",
   "metadata": {},
   "outputs": [
    {
     "name": "stdout",
     "output_type": "stream",
     "text": [
      "{\n",
      "   \"comments\": {\n",
      "      \"raw_comments__count\": 225,\n",
      "      \"translated_comments__count\": 221,\n",
      "      \"sentiment_comments__vader__median\": 0.6369,\n",
      "      \"sentiment_comments__textblob__median\": 0.2\n",
      "   },\n",
      "   \"donations\": {\n",
      "      \"donations__count\": 80,\n",
      "      \"donations__sum\": 1826.49,\n",
      "      \"donations__currency\": \"USD\"\n",
      "   },\n",
      "   \"dislikes\": {\n",
      "      \"highly_positive_comments__count\": 140,\n",
      "      \"highly_negative_comments__count\": 3,\n",
      "      \"positive_to_negative_comment_ratio\": 46.666666666666664,\n",
      "      \"likes__count\": 314865,\n",
      "      \"dislikes__estimate\": 6747\n",
      "   }\n",
      "}\n"
     ]
    }
   ],
   "source": [
    "print(json.dumps(response.json(), indent=3))"
   ]
  },
  {
   "cell_type": "code",
   "execution_count": null,
   "id": "2e8fd5c1-711c-4a71-b20a-0d7339df8766",
   "metadata": {},
   "outputs": [],
   "source": []
  }
 ],
 "metadata": {
  "kernelspec": {
   "display_name": "YT comment testing 2",
   "language": "python",
   "name": "yt-comment-tesing-2"
  },
  "language_info": {
   "codemirror_mode": {
    "name": "ipython",
    "version": 3
   },
   "file_extension": ".py",
   "mimetype": "text/x-python",
   "name": "python",
   "nbconvert_exporter": "python",
   "pygments_lexer": "ipython3",
   "version": "3.10.11"
  }
 },
 "nbformat": 4,
 "nbformat_minor": 5
}
