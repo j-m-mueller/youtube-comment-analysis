{
 "cells": [
  {
   "cell_type": "markdown",
   "id": "d7cdae99-5680-4256-9a01-495b3329b37f",
   "metadata": {},
   "source": [
    "# FastAPI Requests"
   ]
  },
  {
   "cell_type": "markdown",
   "id": "0b6ff23a-d0bf-4847-ba39-fb3eb031a76b",
   "metadata": {},
   "source": [
    "This notebook demonstrates, how requests can be submitted to the running FastAPI."
   ]
  },
  {
   "cell_type": "code",
   "execution_count": 1,
   "id": "69eb45a6-b1fc-4dff-8c98-0d0da451e4e3",
   "metadata": {},
   "outputs": [],
   "source": [
    "%load_ext autoreload\n",
    "%autoreload 2"
   ]
  },
  {
   "cell_type": "code",
   "execution_count": 2,
   "id": "ddff6590-f122-400e-ac4a-afee07787597",
   "metadata": {},
   "outputs": [],
   "source": [
    "import json\n",
    "import requests"
   ]
  },
  {
   "cell_type": "code",
   "execution_count": 3,
   "id": "209f3540-8dbb-45d8-8b7d-460eb4f29a0f",
   "metadata": {},
   "outputs": [],
   "source": [
    "with open('../html_body.txt', 'r', encoding='utf-8') as file:\n",
    "    raw_html = file.read()"
   ]
  },
  {
   "cell_type": "markdown",
   "id": "dcd02776-b660-4b89-921d-4f2f3bc11ecc",
   "metadata": {},
   "source": [
    "Check if API is up and running:"
   ]
  },
  {
   "cell_type": "code",
   "execution_count": 4,
   "id": "60a057e5-19e3-4f4e-b25b-bbf655c213ee",
   "metadata": {},
   "outputs": [
    {
     "data": {
      "text/plain": [
       "'Comment API is healthy'"
      ]
     },
     "execution_count": 4,
     "metadata": {},
     "output_type": "execute_result"
    }
   ],
   "source": [
    "requests.get('http://127.0.0.1:8000/health').json()"
   ]
  },
  {
   "cell_type": "markdown",
   "id": "5c684830-56eb-4ade-9b31-c5a936245674",
   "metadata": {},
   "source": [
    "Submit the actual analysis request:"
   ]
  },
  {
   "cell_type": "code",
   "execution_count": 5,
   "id": "2876624e-ff38-40b7-8f14-284548121a8c",
   "metadata": {},
   "outputs": [],
   "source": [
    "response = requests.post(\n",
    "    url='http://127.0.0.1:8000/analyze-comments',\n",
    "    json={\n",
    "        \"raw_html\": raw_html,\n",
    "        \"params\": {\n",
    "            \"analyze_donations\": True,\n",
    "            \"target_currency\": \"USD\",\n",
    "            \"dislike_polarity_cutoff\": 0.3\n",
    "        }\n",
    "    }\n",
    ")"
   ]
  },
  {
   "cell_type": "code",
   "execution_count": 6,
   "id": "031108e4-bb14-4098-8acf-5478793438a8",
   "metadata": {},
   "outputs": [
    {
     "data": {
      "text/plain": [
       "200"
      ]
     },
     "execution_count": 6,
     "metadata": {},
     "output_type": "execute_result"
    }
   ],
   "source": [
    "response.status_code"
   ]
  },
  {
   "cell_type": "markdown",
   "id": "e0157d12-d25f-4811-a278-87ad55dcfe8b",
   "metadata": {},
   "source": [
    "If the status code is 200, we can check the metrics of the analysis below:"
   ]
  },
  {
   "cell_type": "code",
   "execution_count": 8,
   "id": "56e82d04-94f6-4761-bfe4-473b6ec2877a",
   "metadata": {},
   "outputs": [
    {
     "name": "stdout",
     "output_type": "stream",
     "text": [
      "{\n",
      "   \"comments\": {\n",
      "      \"raw_comments__count\": 225,\n",
      "      \"translated_comments__count\": 221,\n",
      "      \"sentiment_comments__vader__median\": 0.6369,\n",
      "      \"sentiment_comments__textblob__median\": 0.2\n",
      "   },\n",
      "   \"donations\": {\n",
      "      \"donations__count\": 80,\n",
      "      \"donations__sum\": 1826.49,\n",
      "      \"donations__currency\": \"USD\"\n",
      "   },\n",
      "   \"dislikes\": {\n",
      "      \"highly_positive_comments__count\": 142,\n",
      "      \"highly_negative_comments__count\": 3,\n",
      "      \"likes__count\": 314865,\n",
      "      \"dislikes__estimate\": 6652\n",
      "   }\n",
      "}\n"
     ]
    }
   ],
   "source": [
    "print(json.dumps(response.json(), indent=3))"
   ]
  },
  {
   "cell_type": "code",
   "execution_count": null,
   "id": "2e8fd5c1-711c-4a71-b20a-0d7339df8766",
   "metadata": {},
   "outputs": [],
   "source": []
  }
 ],
 "metadata": {
  "kernelspec": {
   "display_name": "YT comment testing 2",
   "language": "python",
   "name": "yt-comment-tesing-2"
  },
  "language_info": {
   "codemirror_mode": {
    "name": "ipython",
    "version": 3
   },
   "file_extension": ".py",
   "mimetype": "text/x-python",
   "name": "python",
   "nbconvert_exporter": "python",
   "pygments_lexer": "ipython3",
   "version": "3.10.11"
  }
 },
 "nbformat": 4,
 "nbformat_minor": 5
}
